{
  "nbformat": 4,
  "nbformat_minor": 0,
  "metadata": {
    "colab": {
      "provenance": []
    },
    "kernelspec": {
      "name": "python3",
      "display_name": "Python 3"
    },
    "language_info": {
      "name": "python"
    }
  },
  "cells": [
    {
      "cell_type": "markdown",
      "source": [
        "# Decision Tree"
      ],
      "metadata": {
        "id": "Z1W5drQWtWku"
      }
    },
    {
      "cell_type": "markdown",
      "source": [
        "# Assignment Questions\n"
      ],
      "metadata": {
        "id": "Vyn_xWgJtZyU"
      }
    },
    {
      "cell_type": "markdown",
      "source": [
        "# Theoretical"
      ],
      "metadata": {
        "id": "rrVyoreztfEk"
      }
    },
    {
      "cell_type": "markdown",
      "source": [
        "1. What is a Decision Tree, and how does it work?\n",
        "   - A decision tree is a flowchart-like structure that models decisions and their potential outcomes, used in machine learning for both classification and regression tasks, by breaking down complex problems into a series of simpler decisions.\n",
        "\n",
        "2. What are impurity measures in Decision Trees?\n",
        "   - In decision trees, impurity measures quantify how \"mixed\" or \"unpure\" a node's data is regarding its target variable, guiding the algorithm on how to split nodes for better predictions. Common impurity measures include Gini impurity and entropy, with the goal of minimizing impurity at each split.\n",
        "\n",
        "3. What is the mathematical formula for Gini Impurity?\n",
        "   - The mathematical formula for Gini Impurity is 1 - Σ (p<sub>i</sub>)², where 'p<sub>i</sub>' represents the probability of an element belonging to class 'i'.\n",
        "\n",
        "4. What is the mathematical formula for Entropy?\n",
        "   - In one statistical interpretation of entropy, it is found that for a very large system in thermodynamic equilibrium, entropy S is proportional to the natural logarithm of a quantity Ω representing the maximum number of microscopic ways in which the macroscopic state corresponding to S can be realized; that is, S = k ln\n",
        "\n",
        "5. What is Information Gain, and how is it used in Decision Trees?\n",
        "   - Information Gain, a key concept in decision tree algorithms, measures the reduction in entropy (uncertainty) of a dataset after splitting it based on a particular feature, helping to determine the best split for building a decision tree.\n",
        "\n",
        "6. What is the difference between Gini Impurity and Entropy?\n",
        "   - Gini impurity and entropy are both metrics used in decision tree algorithms to measure the homogeneity of a dataset, but they differ in their calculation and range of values: Gini impurity measures the probability of misclassification, ranging from 0 to 0.5, while entropy measures disorder or randomness, ranging from 0 to 1.\n",
        "\n",
        "7. What is the mathematical explanation behind Decision Trees?\n",
        "   - Decision trees employ mathematical concepts like entropy, Gini impurity, and information gain to determine the best splits in a dataset, ultimately creating a model that predicts a target variable by following a series of decision rules.\n",
        "\n",
        "8. What is Pre-Pruning in Decision Trees?\n",
        "   - Pre-pruning in decision trees, also known as early stopping, involves setting parameters to stop the tree's growth before it reaches its full potential, preventing overfitting by limiting its complexity.\n",
        "\n",
        "9. What is Post-Pruning in Decision Trees?\n",
        "   - Post-pruning in decision trees involves allowing the tree to grow fully, potentially overfitting the training data, and then removing branches or nodes that don't contribute significantly to generalization accuracy. This approach, also known as cost-complexity pruning, aims to simplify the tree while maintaining or improving its performance on unseen data.\n",
        "\n",
        "10. What is the difference between Pre-Pruning and Post-Pruning?\n",
        "    - In the context of decision trees, pre-pruning (or early stopping) limits tree growth before it reaches its full complexity, while post-pruning (or reduced error pruning) removes branches from a fully grown tree to improve accuracy.\n",
        "\n",
        "11. What is a Decision Tree Regressor?\n",
        "    - A decision tree regressor is a machine learning algorithm that predicts continuous (numerical) values by using a tree-like model where each node represents a decision rule, and each branch represents the outcome of that decision, ultimately leading to a leaf node that provides the predicted value.\n",
        "\n",
        "12. What are the advantages and disadvantages of Decision Trees?\n",
        "    - Decision trees offer advantages like simplicity, interpretability, and the ability to handle both numerical and categorical data, but can also suffer from overfitting and instability.\n",
        "\n",
        "13. How does a Decision Tree handle missing values?\n",
        "    - The key takeaway is that decision trees handle missing values naturally by making splits based on the available data. The algorithm calculates impurity measures while considering instance weights, which helps in accommodating missing values.\n",
        "\n",
        "14. How does a Decision Tree handle categorical features?\n",
        "    - Decision trees can handle categorical features, and while some implementations might require preprocessing like one-hot encoding, they can also be handled directly through techniques like splitting based on category membership.\n",
        "\n",
        "15. What are some real-world applications of Decision Trees?\n",
        "    - Decision trees find applications across diverse fields, including finance (fraud detection, credit risk assessment), healthcare (medical diagnosis, predicting patient outcomes), and business (customer churn prediction, marketing analysis).\n"
      ],
      "metadata": {
        "id": "hxv2QzeStggM"
      }
    },
    {
      "cell_type": "markdown",
      "source": [
        "# Practical"
      ],
      "metadata": {
        "id": "FK7GCpgkvGCL"
      }
    },
    {
      "cell_type": "markdown",
      "source": [
        "# 16. Write a Python program to train a Decision Tree Classifier on the Iris dataset and print the model accuracy."
      ],
      "metadata": {
        "id": "dlLh8auivHBr"
      }
    },
    {
      "cell_type": "code",
      "execution_count": 1,
      "metadata": {
        "colab": {
          "base_uri": "https://localhost:8080/"
        },
        "id": "61gvQgYps5NI",
        "outputId": "d7f5b925-a521-4fc6-bcd0-2f1dcf476edd"
      },
      "outputs": [
        {
          "output_type": "stream",
          "name": "stdout",
          "text": [
            "Decision Tree Classifier Accuracy: 1.0000\n"
          ]
        }
      ],
      "source": [
        "from sklearn.datasets import load_iris\n",
        "from sklearn.model_selection import train_test_split\n",
        "from sklearn.tree import DecisionTreeClassifier\n",
        "from sklearn.metrics import accuracy_score\n",
        "\n",
        "def train_and_evaluate_decision_tree():\n",
        "    \"\"\"\n",
        "    Trains a Decision Tree Classifier on the Iris dataset and prints the model accuracy.\n",
        "    \"\"\"\n",
        "\n",
        "    # Load the Iris dataset\n",
        "    iris = load_iris()\n",
        "    X = iris.data\n",
        "    y = iris.target\n",
        "\n",
        "    # Split the dataset into training and testing sets\n",
        "    X_train, X_test, y_train, y_test = train_test_split(X, y, test_size=0.2, random_state=42)\n",
        "\n",
        "    # Create a Decision Tree Classifier\n",
        "    clf = DecisionTreeClassifier(random_state=42)\n",
        "\n",
        "    # Train the classifier\n",
        "    clf.fit(X_train, y_train)\n",
        "\n",
        "    # Make predictions on the test set\n",
        "    y_pred = clf.predict(X_test)\n",
        "\n",
        "    # Calculate the accuracy of the model\n",
        "    accuracy = accuracy_score(y_test, y_pred)\n",
        "\n",
        "    # Print the accuracy\n",
        "    print(f\"Decision Tree Classifier Accuracy: {accuracy:.4f}\")\n",
        "\n",
        "if __name__ == \"__main__\":\n",
        "    train_and_evaluate_decision_tree()"
      ]
    },
    {
      "cell_type": "markdown",
      "source": [
        "# 17. Write a Python program to train a Decision Tree Classifier using Gini Impurity as the criterion and print the feature importances."
      ],
      "metadata": {
        "id": "vLeZZrNGva07"
      }
    },
    {
      "cell_type": "code",
      "source": [
        "from sklearn.datasets import load_iris\n",
        "from sklearn.model_selection import train_test_split\n",
        "from sklearn.tree import DecisionTreeClassifier\n",
        "import numpy as np\n",
        "\n",
        "def train_decision_tree_and_print_feature_importance():\n",
        "    \"\"\"\n",
        "    Trains a Decision Tree Classifier using Gini impurity and prints feature importances.\n",
        "    \"\"\"\n",
        "\n",
        "    # Load the Iris dataset\n",
        "    iris = load_iris()\n",
        "    X = iris.data\n",
        "    y = iris.target\n",
        "    feature_names = iris.feature_names\n",
        "\n",
        "    # Split the dataset into training and testing sets\n",
        "    X_train, X_test, y_train, y_test = train_test_split(X, y, test_size=0.2, random_state=42)\n",
        "\n",
        "    # Create a Decision Tree Classifier with Gini impurity\n",
        "    clf = DecisionTreeClassifier(criterion=\"gini\", random_state=42)\n",
        "\n",
        "    # Train the classifier\n",
        "    clf.fit(X_train, y_train)\n",
        "\n",
        "    # Get feature importances\n",
        "    feature_importances = clf.feature_importances_\n",
        "\n",
        "    # Print feature importances\n",
        "    print(\"Feature Importances:\")\n",
        "    for feature, importance in zip(feature_names, feature_importances):\n",
        "        print(f\"{feature}: {importance:.4f}\")\n",
        "\n",
        "    # Optional: Print feature importances in sorted order\n",
        "    print(\"\\nFeature Importances (Sorted):\")\n",
        "    sorted_idx = feature_importances.argsort()[::-1]\n",
        "    for i in sorted_idx:\n",
        "        print(f\"{feature_names[i]}: {feature_importances[i]:.4f}\")\n",
        "\n",
        "if __name__ == \"__main__\":\n",
        "    train_decision_tree_and_print_feature_importance()"
      ],
      "metadata": {
        "colab": {
          "base_uri": "https://localhost:8080/"
        },
        "id": "iE-1_MPbvTEm",
        "outputId": "4326c7bd-029a-4ea5-eec4-f7b554cf1fd0"
      },
      "execution_count": 2,
      "outputs": [
        {
          "output_type": "stream",
          "name": "stdout",
          "text": [
            "Feature Importances:\n",
            "sepal length (cm): 0.0000\n",
            "sepal width (cm): 0.0167\n",
            "petal length (cm): 0.9061\n",
            "petal width (cm): 0.0772\n",
            "\n",
            "Feature Importances (Sorted):\n",
            "petal length (cm): 0.9061\n",
            "petal width (cm): 0.0772\n",
            "sepal width (cm): 0.0167\n",
            "sepal length (cm): 0.0000\n"
          ]
        }
      ]
    },
    {
      "cell_type": "markdown",
      "source": [
        "# 18. Write a Python program to train a Decision Tree Classifier using Entropy as the splitting criterion and print the model accuracy."
      ],
      "metadata": {
        "id": "L7yNFEjqvqHb"
      }
    },
    {
      "cell_type": "code",
      "source": [
        "from sklearn.datasets import load_iris\n",
        "from sklearn.model_selection import train_test_split\n",
        "from sklearn.tree import DecisionTreeClassifier\n",
        "from sklearn.metrics import accuracy_score\n",
        "\n",
        "def train_and_evaluate_decision_tree_entropy():\n",
        "    \"\"\"\n",
        "    Trains a Decision Tree Classifier using entropy and prints the model accuracy.\n",
        "    \"\"\"\n",
        "\n",
        "    # Load the Iris dataset\n",
        "    iris = load_iris()\n",
        "    X = iris.data\n",
        "    y = iris.target\n",
        "\n",
        "    # Split the dataset into training and testing sets\n",
        "    X_train, X_test, y_train, y_test = train_test_split(X, y, test_size=0.2, random_state=42)\n",
        "\n",
        "    # Create a Decision Tree Classifier with entropy criterion\n",
        "    clf = DecisionTreeClassifier(criterion=\"entropy\", random_state=42)\n",
        "\n",
        "    # Train the classifier\n",
        "    clf.fit(X_train, y_train)\n",
        "\n",
        "    # Make predictions on the test set\n",
        "    y_pred = clf.predict(X_test)\n",
        "\n",
        "    # Calculate the accuracy of the model\n",
        "    accuracy = accuracy_score(y_test, y_pred)\n",
        "\n",
        "    # Print the accuracy\n",
        "    print(f\"Decision Tree Classifier (Entropy) Accuracy: {accuracy:.4f}\")\n",
        "\n",
        "if __name__ == \"__main__\":\n",
        "    train_and_evaluate_decision_tree_entropy()"
      ],
      "metadata": {
        "colab": {
          "base_uri": "https://localhost:8080/"
        },
        "id": "Y3eSeQZUvllJ",
        "outputId": "6e4886cd-be95-41b7-a63d-7afa7932f3cc"
      },
      "execution_count": 3,
      "outputs": [
        {
          "output_type": "stream",
          "name": "stdout",
          "text": [
            "Decision Tree Classifier (Entropy) Accuracy: 1.0000\n"
          ]
        }
      ]
    },
    {
      "cell_type": "markdown",
      "source": [
        "# 19. Write a Python program to train a Decision Tree Regressor on a housing dataset and evaluate using Mean Squared Error (MSE)."
      ],
      "metadata": {
        "id": "VW1nBU3Sv3iK"
      }
    },
    {
      "cell_type": "code",
      "source": [
        "import pandas as pd\n",
        "from sklearn.model_selection import train_test_split\n",
        "from sklearn.tree import DecisionTreeRegressor\n",
        "from sklearn.metrics import mean_squared_error\n",
        "from sklearn.datasets import fetch_california_housing\n",
        "\n",
        "def train_and_evaluate_decision_tree_regressor():\n",
        "    \"\"\"\n",
        "    Trains a Decision Tree Regressor on the California Housing dataset and evaluates using MSE.\n",
        "    \"\"\"\n",
        "\n",
        "    # Load the California Housing dataset\n",
        "    housing = fetch_california_housing()\n",
        "    X = housing.data\n",
        "    y = housing.target\n",
        "\n",
        "    # Split the dataset into training and testing sets\n",
        "    X_train, X_test, y_train, y_test = train_test_split(X, y, test_size=0.2, random_state=42)\n",
        "\n",
        "    # Create a Decision Tree Regressor\n",
        "    regressor = DecisionTreeRegressor(random_state=42)\n",
        "\n",
        "    # Train the regressor\n",
        "    regressor.fit(X_train, y_train)\n",
        "\n",
        "    # Make predictions on the test set\n",
        "    y_pred = regressor.predict(X_test)\n",
        "\n",
        "    # Calculate the Mean Squared Error (MSE)\n",
        "    mse = mean_squared_error(y_test, y_pred)\n",
        "\n",
        "    # Print the MSE\n",
        "    print(f\"Decision Tree Regressor Mean Squared Error (MSE): {mse:.4f}\")\n",
        "\n",
        "if __name__ == \"__main__\":\n",
        "    train_and_evaluate_decision_tree_regressor()"
      ],
      "metadata": {
        "colab": {
          "base_uri": "https://localhost:8080/"
        },
        "id": "E6561J_FvyqJ",
        "outputId": "a35d45d7-49a5-4345-de40-9f31ff3eed2e"
      },
      "execution_count": 4,
      "outputs": [
        {
          "output_type": "stream",
          "name": "stdout",
          "text": [
            "Decision Tree Regressor Mean Squared Error (MSE): 0.4952\n"
          ]
        }
      ]
    },
    {
      "cell_type": "markdown",
      "source": [
        "# 20. Write a Python program to train a Decision Tree Classifier and visualize the tree using graphviz."
      ],
      "metadata": {
        "id": "vzCDGFyowC7D"
      }
    },
    {
      "cell_type": "code",
      "source": [
        "from sklearn.datasets import load_iris\n",
        "from sklearn.model_selection import train_test_split\n",
        "from sklearn.tree import DecisionTreeClassifier, export_graphviz\n",
        "import graphviz\n",
        "\n",
        "def train_and_visualize_decision_tree():\n",
        "    \"\"\"\n",
        "    Trains a Decision Tree Classifier on the Iris dataset and visualizes the tree using graphviz.\n",
        "    \"\"\"\n",
        "\n",
        "    # Load the Iris dataset\n",
        "    iris = load_iris()\n",
        "    X = iris.data\n",
        "    y = iris.target\n",
        "    feature_names = iris.feature_names\n",
        "    class_names = iris.target_names\n",
        "\n",
        "    # Split the dataset into training and testing sets\n",
        "    X_train, X_test, y_train, y_test = train_test_split(X, y, test_size=0.2, random_state=42)\n",
        "\n",
        "    # Create a Decision Tree Classifier\n",
        "    clf = DecisionTreeClassifier(random_state=42)\n",
        "\n",
        "    # Train the classifier\n",
        "    clf.fit(X_train, y_train)\n",
        "\n",
        "    # Export the decision tree to a DOT format file\n",
        "    dot_data = export_graphviz(\n",
        "        clf,\n",
        "        out_file=None,\n",
        "        feature_names=feature_names,\n",
        "        class_names=class_names,\n",
        "        filled=True,\n",
        "        rounded=True,\n",
        "        special_characters=True,\n",
        "    )\n",
        "\n",
        "    # Create a graph from the DOT data\n",
        "    graph = graphviz.Source(dot_data)\n",
        "\n",
        "    # Render and display the graph (or save it to a file)\n",
        "    graph.render(\"iris_decision_tree\", view=True) # renders to iris_decision_tree.pdf and displays the pdf\n",
        "\n",
        "if __name__ == \"__main__\":\n",
        "    train_and_visualize_decision_tree()"
      ],
      "metadata": {
        "id": "x3M8gxvYv__1"
      },
      "execution_count": 6,
      "outputs": []
    },
    {
      "cell_type": "markdown",
      "source": [
        "# 21. Write a Python program to train a Decision Tree Classifier with a maximum depth of 3 and compare its accuracy with a fully grown tree."
      ],
      "metadata": {
        "id": "O_2e7-ELwP4C"
      }
    },
    {
      "cell_type": "code",
      "source": [
        "from sklearn.datasets import load_iris\n",
        "from sklearn.model_selection import train_test_split\n",
        "from sklearn.tree import DecisionTreeClassifier\n",
        "from sklearn.metrics import accuracy_score\n",
        "\n",
        "def compare_tree_depth():\n",
        "    \"\"\"\n",
        "    Trains and compares the accuracy of a Decision Tree Classifier with max_depth=3 and a fully grown tree.\n",
        "    \"\"\"\n",
        "\n",
        "    # Load the Iris dataset\n",
        "    iris = load_iris()\n",
        "    X = iris.data\n",
        "    y = iris.target\n",
        "\n",
        "    # Split the dataset into training and testing sets\n",
        "    X_train, X_test, y_train, y_test = train_test_split(X, y, test_size=0.2, random_state=42)\n",
        "\n",
        "    # Train a Decision Tree Classifier with max_depth=3\n",
        "    clf_depth3 = DecisionTreeClassifier(max_depth=3, random_state=42)\n",
        "    clf_depth3.fit(X_train, y_train)\n",
        "    y_pred_depth3 = clf_depth3.predict(X_test)\n",
        "    accuracy_depth3 = accuracy_score(y_test, y_pred_depth3)\n",
        "\n",
        "    # Train a fully grown Decision Tree Classifier (no max_depth limit)\n",
        "    clf_full = DecisionTreeClassifier(random_state=42)\n",
        "    clf_full.fit(X_train, y_train)\n",
        "    y_pred_full = clf_full.predict(X_test)\n",
        "    accuracy_full = accuracy_score(y_test, y_pred_full)\n",
        "\n",
        "    # Print the accuracies\n",
        "    print(f\"Decision Tree Classifier (max_depth=3) Accuracy: {accuracy_depth3:.4f}\")\n",
        "    print(f\"Fully Grown Decision Tree Classifier Accuracy: {accuracy_full:.4f}\")\n",
        "\n",
        "    #Compare the accuracies\n",
        "    if accuracy_depth3 > accuracy_full:\n",
        "        print(\"Decision Tree with max_depth=3 is more accurate in this case.\")\n",
        "    elif accuracy_depth3 < accuracy_full:\n",
        "        print(\"The fully grown Decision Tree is more accurate in this case.\")\n",
        "    else:\n",
        "        print(\"Both trees have the same accuracy.\")\n",
        "\n",
        "if __name__ == \"__main__\":\n",
        "    compare_tree_depth()"
      ],
      "metadata": {
        "colab": {
          "base_uri": "https://localhost:8080/"
        },
        "id": "MoVB6blfwLIE",
        "outputId": "8a553840-9e5e-49d9-d457-a9bdffedf4e4"
      },
      "execution_count": 7,
      "outputs": [
        {
          "output_type": "stream",
          "name": "stdout",
          "text": [
            "Decision Tree Classifier (max_depth=3) Accuracy: 1.0000\n",
            "Fully Grown Decision Tree Classifier Accuracy: 1.0000\n",
            "Both trees have the same accuracy.\n"
          ]
        }
      ]
    },
    {
      "cell_type": "markdown",
      "source": [
        "# 22. Write a Python program to train a Decision Tree Classifier using min_samples_split=5 and compare its accuracy with a default tree."
      ],
      "metadata": {
        "id": "JCWc4YNOwZnz"
      }
    },
    {
      "cell_type": "code",
      "source": [
        "from sklearn.datasets import load_iris\n",
        "from sklearn.model_selection import train_test_split\n",
        "from sklearn.tree import DecisionTreeClassifier\n",
        "from sklearn.metrics import accuracy_score\n",
        "\n",
        "def compare_min_samples_split():\n",
        "    \"\"\"\n",
        "    Trains and compares the accuracy of a Decision Tree Classifier with min_samples_split=5 and a default tree.\n",
        "    \"\"\"\n",
        "\n",
        "    # Load the Iris dataset\n",
        "    iris = load_iris()\n",
        "    X = iris.data\n",
        "    y = iris.target\n",
        "\n",
        "    # Split the dataset into training and testing sets\n",
        "    X_train, X_test, y_train, y_test = train_test_split(X, y, test_size=0.2, random_state=42)\n",
        "\n",
        "    # Train a Decision Tree Classifier with min_samples_split=5\n",
        "    clf_min5 = DecisionTreeClassifier(min_samples_split=5, random_state=42)\n",
        "    clf_min5.fit(X_train, y_train)\n",
        "    y_pred_min5 = clf_min5.predict(X_test)\n",
        "    accuracy_min5 = accuracy_score(y_test, y_pred_min5)\n",
        "\n",
        "    # Train a default Decision Tree Classifier\n",
        "    clf_default = DecisionTreeClassifier(random_state=42)\n",
        "    clf_default.fit(X_train, y_train)\n",
        "    y_pred_default = clf_default.predict(X_test)\n",
        "    accuracy_default = accuracy_score(y_test, y_pred_default)\n",
        "\n",
        "    # Print the accuracies\n",
        "    print(f\"Decision Tree Classifier (min_samples_split=5) Accuracy: {accuracy_min5:.4f}\")\n",
        "    print(f\"Default Decision Tree Classifier Accuracy: {accuracy_default:.4f}\")\n",
        "\n",
        "    #Compare the accuracies\n",
        "    if accuracy_min5 > accuracy_default:\n",
        "        print(\"Decision Tree with min_samples_split=5 is more accurate in this case.\")\n",
        "    elif accuracy_min5 < accuracy_default:\n",
        "        print(\"The default Decision Tree is more accurate in this case.\")\n",
        "    else:\n",
        "        print(\"Both trees have the same accuracy.\")\n",
        "\n",
        "if __name__ == \"__main__\":\n",
        "    compare_min_samples_split()"
      ],
      "metadata": {
        "colab": {
          "base_uri": "https://localhost:8080/"
        },
        "id": "EPvmMxEqwX7O",
        "outputId": "e537b69e-5c9f-4805-9117-434a411a8ed2"
      },
      "execution_count": 8,
      "outputs": [
        {
          "output_type": "stream",
          "name": "stdout",
          "text": [
            "Decision Tree Classifier (min_samples_split=5) Accuracy: 1.0000\n",
            "Default Decision Tree Classifier Accuracy: 1.0000\n",
            "Both trees have the same accuracy.\n"
          ]
        }
      ]
    },
    {
      "cell_type": "markdown",
      "source": [
        "# 23. Write a Python program to apply feature scaling before training a Decision Tree Classifier and compare its accuracy with unscaled data."
      ],
      "metadata": {
        "id": "MKc_aus1wjui"
      }
    },
    {
      "cell_type": "code",
      "source": [
        "from sklearn.datasets import load_iris\n",
        "from sklearn.model_selection import train_test_split\n",
        "from sklearn.tree import DecisionTreeClassifier\n",
        "from sklearn.metrics import accuracy_score\n",
        "from sklearn.preprocessing import StandardScaler\n",
        "\n",
        "def compare_scaling():\n",
        "    \"\"\"\n",
        "    Trains and compares the accuracy of a Decision Tree Classifier with and without feature scaling.\n",
        "    \"\"\"\n",
        "\n",
        "    # Load the Iris dataset\n",
        "    iris = load_iris()\n",
        "    X = iris.data\n",
        "    y = iris.target\n",
        "\n",
        "    # Split the dataset into training and testing sets\n",
        "    X_train, X_test, y_train, y_test = train_test_split(X, y, test_size=0.2, random_state=42)\n",
        "\n",
        "    # Train a Decision Tree Classifier without scaling\n",
        "    clf_unscaled = DecisionTreeClassifier(random_state=42)\n",
        "    clf_unscaled.fit(X_train, y_train)\n",
        "    y_pred_unscaled = clf_unscaled.predict(X_test)\n",
        "    accuracy_unscaled = accuracy_score(y_test, y_pred_unscaled)\n",
        "\n",
        "    # Apply StandardScaler for feature scaling\n",
        "    scaler = StandardScaler()\n",
        "    X_train_scaled = scaler.fit_transform(X_train)\n",
        "    X_test_scaled = scaler.transform(X_test)\n",
        "\n",
        "    # Train a Decision Tree Classifier with scaled data\n",
        "    clf_scaled = DecisionTreeClassifier(random_state=42)\n",
        "    clf_scaled.fit(X_train_scaled, y_train)\n",
        "    y_pred_scaled = clf_scaled.predict(X_test_scaled)\n",
        "    accuracy_scaled = accuracy_score(y_test, y_pred_scaled)\n",
        "\n",
        "    # Print the accuracies\n",
        "    print(f\"Decision Tree Classifier (Unscaled) Accuracy: {accuracy_unscaled:.4f}\")\n",
        "    print(f\"Decision Tree Classifier (Scaled) Accuracy: {accuracy_scaled:.4f}\")\n",
        "\n",
        "    #Compare the accuracies\n",
        "    if accuracy_scaled > accuracy_unscaled:\n",
        "        print(\"Decision Tree with scaled data is more accurate in this case.\")\n",
        "    elif accuracy_scaled < accuracy_unscaled:\n",
        "        print(\"Decision Tree with unscaled data is more accurate in this case.\")\n",
        "    else:\n",
        "        print(\"Both trees have the same accuracy.\")\n",
        "\n",
        "if __name__ == \"__main__\":\n",
        "    compare_scaling()"
      ],
      "metadata": {
        "colab": {
          "base_uri": "https://localhost:8080/"
        },
        "id": "l_JhY5GAwih0",
        "outputId": "68e877e9-9f7f-494a-d5ab-4436a6087474"
      },
      "execution_count": 9,
      "outputs": [
        {
          "output_type": "stream",
          "name": "stdout",
          "text": [
            "Decision Tree Classifier (Unscaled) Accuracy: 1.0000\n",
            "Decision Tree Classifier (Scaled) Accuracy: 1.0000\n",
            "Both trees have the same accuracy.\n"
          ]
        }
      ]
    },
    {
      "cell_type": "markdown",
      "source": [
        "# 24. Write a Python program to train a Decision Tree Classifier using One-vs-Rest (OvR) strategy for multiclass classification."
      ],
      "metadata": {
        "id": "Wgn51iwxwxVB"
      }
    },
    {
      "cell_type": "code",
      "source": [
        "from sklearn.datasets import load_iris\n",
        "from sklearn.model_selection import train_test_split\n",
        "from sklearn.tree import DecisionTreeClassifier\n",
        "from sklearn.multiclass import OneVsRestClassifier\n",
        "from sklearn.metrics import accuracy_score\n",
        "\n",
        "def train_ovr_decision_tree():\n",
        "    \"\"\"\n",
        "    Trains a Decision Tree Classifier using One-vs-Rest (OvR) strategy for multiclass classification.\n",
        "    \"\"\"\n",
        "\n",
        "    # Load the Iris dataset\n",
        "    iris = load_iris()\n",
        "    X = iris.data\n",
        "    y = iris.target\n",
        "\n",
        "    # Split the dataset into training and testing sets\n",
        "    X_train, X_test, y_train, y_test = train_test_split(X, y, test_size=0.2, random_state=42)\n",
        "\n",
        "    # Create a Decision Tree Classifier\n",
        "    base_clf = DecisionTreeClassifier(random_state=42)\n",
        "\n",
        "    # Create a OneVsRestClassifier with the Decision Tree as the base estimator\n",
        "    ovr_clf = OneVsRestClassifier(base_clf)\n",
        "\n",
        "    # Train the OvR classifier\n",
        "    ovr_clf.fit(X_train, y_train)\n",
        "\n",
        "    # Make predictions on the test set\n",
        "    y_pred = ovr_clf.predict(X_test)\n",
        "\n",
        "    # Calculate the accuracy of the model\n",
        "    accuracy = accuracy_score(y_test, y_pred)\n",
        "\n",
        "    # Print the accuracy\n",
        "    print(f\"One-vs-Rest Decision Tree Classifier Accuracy: {accuracy:.4f}\")\n",
        "\n",
        "if __name__ == \"__main__\":\n",
        "    train_ovr_decision_tree()"
      ],
      "metadata": {
        "colab": {
          "base_uri": "https://localhost:8080/"
        },
        "id": "AVFF71orwwLj",
        "outputId": "2073ff18-bcae-4b9b-f0a6-40dcec3d5ded"
      },
      "execution_count": 10,
      "outputs": [
        {
          "output_type": "stream",
          "name": "stdout",
          "text": [
            "One-vs-Rest Decision Tree Classifier Accuracy: 1.0000\n"
          ]
        }
      ]
    },
    {
      "cell_type": "markdown",
      "source": [
        "# 25. Write a Python program to train a Decision Tree Classifier and display the feature importance scores."
      ],
      "metadata": {
        "id": "fy6OXK8Kw-lS"
      }
    },
    {
      "cell_type": "code",
      "source": [
        "from sklearn.datasets import load_iris\n",
        "from sklearn.model_selection import train_test_split\n",
        "from sklearn.tree import DecisionTreeClassifier\n",
        "import numpy as np\n",
        "\n",
        "def train_and_display_feature_importance():\n",
        "    \"\"\"\n",
        "    Trains a Decision Tree Classifier on the Iris dataset and displays feature importance scores.\n",
        "    \"\"\"\n",
        "\n",
        "    # Load the Iris dataset\n",
        "    iris = load_iris()\n",
        "    X = iris.data\n",
        "    y = iris.target\n",
        "    feature_names = iris.feature_names\n",
        "\n",
        "    # Split the dataset into training and testing sets\n",
        "    X_train, X_test, y_train, y_test = train_test_split(X, y, test_size=0.2, random_state=42)\n",
        "\n",
        "    # Create a Decision Tree Classifier\n",
        "    clf = DecisionTreeClassifier(random_state=42)\n",
        "\n",
        "    # Train the classifier\n",
        "    clf.fit(X_train, y_train)\n",
        "\n",
        "    # Get feature importances\n",
        "    feature_importances = clf.feature_importances_\n",
        "\n",
        "    # Display feature importances\n",
        "    print(\"Feature Importances:\")\n",
        "    for feature, importance in zip(feature_names, feature_importances):\n",
        "        print(f\"{feature}: {importance:.4f}\")\n",
        "\n",
        "    # Optional: Display feature importances in sorted order\n",
        "    print(\"\\nFeature Importances (Sorted):\")\n",
        "    sorted_idx = feature_importances.argsort()[::-1]\n",
        "    for i in sorted_idx:\n",
        "        print(f\"{feature_names[i]}: {feature_importances[i]:.4f}\")\n",
        "\n",
        "if __name__ == \"__main__\":\n",
        "    train_and_display_feature_importance()"
      ],
      "metadata": {
        "colab": {
          "base_uri": "https://localhost:8080/"
        },
        "id": "Bh7lFBxHw91Z",
        "outputId": "1f97b551-b1d1-4e2b-b393-1c60080cfd20"
      },
      "execution_count": 11,
      "outputs": [
        {
          "output_type": "stream",
          "name": "stdout",
          "text": [
            "Feature Importances:\n",
            "sepal length (cm): 0.0000\n",
            "sepal width (cm): 0.0167\n",
            "petal length (cm): 0.9061\n",
            "petal width (cm): 0.0772\n",
            "\n",
            "Feature Importances (Sorted):\n",
            "petal length (cm): 0.9061\n",
            "petal width (cm): 0.0772\n",
            "sepal width (cm): 0.0167\n",
            "sepal length (cm): 0.0000\n"
          ]
        }
      ]
    },
    {
      "cell_type": "markdown",
      "source": [
        "# 26. Write a Python program to train a Decision Tree Regressor with max_depth=5 and compare its performance with an unrestricted tree."
      ],
      "metadata": {
        "id": "HPralef7xIz5"
      }
    },
    {
      "cell_type": "code",
      "source": [
        "from sklearn.datasets import fetch_california_housing\n",
        "from sklearn.model_selection import train_test_split\n",
        "from sklearn.tree import DecisionTreeRegressor\n",
        "from sklearn.metrics import mean_squared_error\n",
        "\n",
        "def compare_regressor_depth():\n",
        "    \"\"\"\n",
        "    Trains and compares the performance of a Decision Tree Regressor with max_depth=5 and an unrestricted tree.\n",
        "    \"\"\"\n",
        "\n",
        "    # Load the California Housing dataset\n",
        "    housing = fetch_california_housing()\n",
        "    X = housing.data\n",
        "    y = housing.target\n",
        "\n",
        "    # Split the dataset into training and testing sets\n",
        "    X_train, X_test, y_train, y_test = train_test_split(X, y, test_size=0.2, random_state=42)\n",
        "\n",
        "    # Train a Decision Tree Regressor with max_depth=5\n",
        "    regressor_depth5 = DecisionTreeRegressor(max_depth=5, random_state=42)\n",
        "    regressor_depth5.fit(X_train, y_train)\n",
        "    y_pred_depth5 = regressor_depth5.predict(X_test)\n",
        "    mse_depth5 = mean_squared_error(y_test, y_pred_depth5)\n",
        "\n",
        "    # Train an unrestricted Decision Tree Regressor\n",
        "    regressor_unrestricted = DecisionTreeRegressor(random_state=42)\n",
        "    regressor_unrestricted.fit(X_train, y_train)\n",
        "    y_pred_unrestricted = regressor_unrestricted.predict(X_test)\n",
        "    mse_unrestricted = mean_squared_error(y_test, y_pred_unrestricted)\n",
        "\n",
        "    # Print the MSEs\n",
        "    print(f\"Decision Tree Regressor (max_depth=5) MSE: {mse_depth5:.4f}\")\n",
        "    print(f\"Unrestricted Decision Tree Regressor MSE: {mse_unrestricted:.4f}\")\n",
        "\n",
        "    #Compare the MSEs\n",
        "    if mse_depth5 < mse_unrestricted:\n",
        "        print(\"Decision Tree with max_depth=5 has a lower MSE (better) in this case.\")\n",
        "    elif mse_depth5 > mse_unrestricted:\n",
        "        print(\"The unrestricted Decision Tree has a lower MSE (better) in this case.\")\n",
        "    else:\n",
        "        print(\"Both trees have the same MSE.\")\n",
        "\n",
        "if __name__ == \"__main__\":\n",
        "    compare_regressor_depth()"
      ],
      "metadata": {
        "colab": {
          "base_uri": "https://localhost:8080/"
        },
        "id": "nMBm4fLwxFQ6",
        "outputId": "fdea3b3a-e8a6-496f-a813-569709090269"
      },
      "execution_count": 12,
      "outputs": [
        {
          "output_type": "stream",
          "name": "stdout",
          "text": [
            "Decision Tree Regressor (max_depth=5) MSE: 0.5245\n",
            "Unrestricted Decision Tree Regressor MSE: 0.4952\n",
            "The unrestricted Decision Tree has a lower MSE (better) in this case.\n"
          ]
        }
      ]
    },
    {
      "cell_type": "markdown",
      "source": [
        "# 27. Write a Python program to train a Decision Tree Classifier, apply Cost Complexity Pruning (CCP), and visualize its effect on accuracy."
      ],
      "metadata": {
        "id": "IyyUSGn5xSIZ"
      }
    },
    {
      "cell_type": "code",
      "source": [
        "import matplotlib.pyplot as plt\n",
        "from sklearn.datasets import load_iris\n",
        "from sklearn.model_selection import train_test_split\n",
        "from sklearn.tree import DecisionTreeClassifier\n",
        "from sklearn.metrics import accuracy_score\n",
        "\n",
        "def train_and_prune_decision_tree():\n",
        "    \"\"\"\n",
        "    Trains a Decision Tree Classifier, applies Cost Complexity Pruning (CCP), and visualizes its effect on accuracy.\n",
        "    \"\"\"\n",
        "\n",
        "    # Load the Iris dataset\n",
        "    iris = load_iris()\n",
        "    X = iris.data\n",
        "    y = iris.target\n",
        "\n",
        "    # Split the dataset into training and testing sets\n",
        "    X_train, X_test, y_train, y_test = train_test_split(X, y, test_size=0.2, random_state=42)\n",
        "\n",
        "    # Create a Decision Tree Classifier\n",
        "    clf = DecisionTreeClassifier(random_state=42)\n",
        "\n",
        "    # Train the classifier\n",
        "    clf.fit(X_train, y_train)\n",
        "\n",
        "    # Apply Cost Complexity Pruning (CCP)\n",
        "    path = clf.cost_complexity_pruning_path(X_train, y_train)\n",
        "    ccp_alphas, impurities = path.ccp_alphas, path.impurities\n",
        "\n",
        "    # Train and evaluate classifiers for different ccp_alphas\n",
        "    clfs = []\n",
        "    for ccp_alpha in ccp_alphas:\n",
        "        clf_pruned = DecisionTreeClassifier(random_state=42, ccp_alpha=ccp_alpha)\n",
        "        clf_pruned.fit(X_train, y_train)\n",
        "        clfs.append(clf_pruned)\n",
        "\n",
        "    # Calculate accuracies for each pruned tree\n",
        "    train_scores = [clf.score(X_train, y_train) for clf in clfs]\n",
        "    test_scores = [clf.score(X_test, y_test) for clf in clfs]\n",
        "\n",
        "    # Visualize the effect of ccp_alpha on accuracy\n",
        "    plt.figure(figsize=(10, 6))\n",
        "    plt.plot(ccp_alphas, train_scores, marker='o', label='Train Accuracy', drawstyle='steps-post')\n",
        "    plt.plot(ccp_alphas, test_scores, marker='o', label='Test Accuracy', drawstyle='steps-post')\n",
        "    plt.xlabel('CCP Alpha')\n",
        "    plt.ylabel('Accuracy')\n",
        "    plt.title('Effect of CCP Alpha on Decision Tree Accuracy')\n",
        "    plt.legend()\n",
        "    plt.grid(True)\n",
        "    plt.show()\n",
        "\n",
        "if __name__ == \"__main__\":\n",
        "    train_and_prune_decision_tree()"
      ],
      "metadata": {
        "colab": {
          "base_uri": "https://localhost:8080/",
          "height": 564
        },
        "id": "UwTQ4SQOxPoD",
        "outputId": "63945af5-7e7c-4249-f97e-3c3cb575f997"
      },
      "execution_count": 13,
      "outputs": [
        {
          "output_type": "display_data",
          "data": {
            "text/plain": [
              "<Figure size 1000x600 with 1 Axes>"
            ],
            "image/png": "[encoded data removed]"
          },
          "metadata": {}
        }
      ]
    },
    {
      "cell_type": "markdown",
      "source": [
        "# 28. Write a Python program to train a Decision Tree Classifier and evaluate its performance using Precision, Recall, and F1-Score."
      ],
      "metadata": {
        "id": "Tncku0SOxfOJ"
      }
    },
    {
      "cell_type": "code",
      "source": [
        "from sklearn.datasets import load_iris\n",
        "from sklearn.model_selection import train_test_split\n",
        "from sklearn.tree import DecisionTreeClassifier\n",
        "from sklearn.metrics import precision_score, recall_score, f1_score\n",
        "\n",
        "def train_and_evaluate_decision_tree():\n",
        "    \"\"\"\n",
        "    Trains a Decision Tree Classifier on the Iris dataset and evaluates its performance using\n",
        "    Precision, Recall, and F1-Score.\n",
        "    \"\"\"\n",
        "\n",
        "    # Load the Iris dataset\n",
        "    iris = load_iris()\n",
        "    X = iris.data\n",
        "    y = iris.target\n",
        "\n",
        "    # Split the dataset into training and testing sets\n",
        "    X_train, X_test, y_train, y_test = train_test_split(X, y, test_size=0.2, random_state=42)\n",
        "\n",
        "    # Create a Decision Tree Classifier\n",
        "    clf = DecisionTreeClassifier(random_state=42)\n",
        "\n",
        "    # Train the classifier\n",
        "    clf.fit(X_train, y_train)\n",
        "\n",
        "    # Make predictions on the test set\n",
        "    y_pred = clf.predict(X_test)\n",
        "\n",
        "    # Calculate Precision, Recall, and F1-Score\n",
        "    precision = precision_score(y_test, y_pred, average='weighted')  # Use 'weighted' for multiclass\n",
        "    recall = recall_score(y_test, y_pred, average='weighted')\n",
        "    f1 = f1_score(y_test, y_pred, average='weighted')\n",
        "\n",
        "    # Print the evaluation metrics\n",
        "    print(f\"Precision: {precision:.4f}\")\n",
        "    print(f\"Recall: {recall:.4f}\")\n",
        "    print(f\"F1-Score: {f1:.4f}\")\n",
        "\n",
        "if __name__ == \"__main__\":\n",
        "    train_and_evaluate_decision_tree()"
      ],
      "metadata": {
        "colab": {
          "base_uri": "https://localhost:8080/"
        },
        "id": "_QpHpjhJxc1i",
        "outputId": "821d433d-4da3-4e5d-80ad-3c213c704089"
      },
      "execution_count": 14,
      "outputs": [
        {
          "output_type": "stream",
          "name": "stdout",
          "text": [
            "Precision: 1.0000\n",
            "Recall: 1.0000\n",
            "F1-Score: 1.0000\n"
          ]
        }
      ]
    },
    {
      "cell_type": "markdown",
      "source": [
        "# 29. Write a Python program to train a Decision Tree Classifier and visualize the confusion matrix using seaborn."
      ],
      "metadata": {
        "id": "4CvsdH8fxq85"
      }
    },
    {
      "cell_type": "code",
      "source": [
        "import matplotlib.pyplot as plt\n",
        "import seaborn as sns\n",
        "from sklearn.datasets import load_iris\n",
        "from sklearn.model_selection import train_test_split\n",
        "from sklearn.tree import DecisionTreeClassifier\n",
        "from sklearn.metrics import confusion_matrix\n",
        "\n",
        "def train_and_visualize_confusion_matrix():\n",
        "    \"\"\"\n",
        "    Trains a Decision Tree Classifier on the Iris dataset and visualizes the confusion matrix using seaborn.\n",
        "    \"\"\"\n",
        "\n",
        "    # Load the Iris dataset\n",
        "    iris = load_iris()\n",
        "    X = iris.data\n",
        "    y = iris.target\n",
        "    class_names = iris.target_names\n",
        "\n",
        "    # Split the dataset into training and testing sets\n",
        "    X_train, X_test, y_train, y_test = train_test_split(X, y, test_size=0.2, random_state=42)\n",
        "\n",
        "    # Create a Decision Tree Classifier\n",
        "    clf = DecisionTreeClassifier(random_state=42)\n",
        "\n",
        "    # Train the classifier\n",
        "    clf.fit(X_train, y_train)\n",
        "\n",
        "    # Make predictions on the test set\n",
        "    y_pred = clf.predict(X_test)\n",
        "\n",
        "    # Calculate the confusion matrix\n",
        "    cm = confusion_matrix(y_test, y_pred)\n",
        "\n",
        "    # Visualize the confusion matrix using seaborn\n",
        "    plt.figure(figsize=(8, 6))\n",
        "    sns.heatmap(cm, annot=True, fmt='d', cmap='Blues', xticklabels=class_names, yticklabels=class_names)\n",
        "    plt.xlabel('Predicted Labels')\n",
        "    plt.ylabel('True Labels')\n",
        "    plt.title('Confusion Matrix')\n",
        "    plt.show()\n",
        "\n",
        "if __name__ == \"__main__\":\n",
        "    train_and_visualize_confusion_matrix()"
      ],
      "metadata": {
        "colab": {
          "base_uri": "https://localhost:8080/",
          "height": 564
        },
        "id": "7RF9uXQ4xoSQ",
        "outputId": "4f8d329c-96a1-4978-9ccb-4b9a43e44d38"
      },
      "execution_count": 15,
      "outputs": [
        {
          "output_type": "display_data",
          "data": {
            "text/plain": [
              "<Figure size 800x600 with 2 Axes>"
            ],
            "image/png": "[encoded data removed]"
          },
          "metadata": {}
        }
      ]
    },
    {
      "cell_type": "markdown",
      "source": [
        "# 30. Write a Python program to train a Decision Tree Classifier and use GridSearchCV to find the optimal values for max_depth and min_samples_split."
      ],
      "metadata": {
        "id": "sHDJ03NQx1Mk"
      }
    },
    {
      "cell_type": "code",
      "source": [
        "from sklearn.datasets import load_iris\n",
        "from sklearn.model_selection import train_test_split, GridSearchCV\n",
        "from sklearn.tree import DecisionTreeClassifier\n",
        "\n",
        "def train_and_grid_search_decision_tree():\n",
        "    \"\"\"\n",
        "    Trains a Decision Tree Classifier on the Iris dataset and uses GridSearchCV to find the\n",
        "    optimal values for max_depth and min_samples_split.\n",
        "    \"\"\"\n",
        "\n",
        "    # Load the Iris dataset\n",
        "    iris = load_iris()\n",
        "    X = iris.data\n",
        "    y = iris.target\n",
        "\n",
        "    # Split the dataset into training and testing sets\n",
        "    X_train, X_test, y_train, y_test = train_test_split(X, y, test_size=0.2, random_state=42)\n",
        "\n",
        "    # Create a Decision Tree Classifier\n",
        "    clf = DecisionTreeClassifier(random_state=42)\n",
        "\n",
        "    # Define the parameter grid for GridSearchCV\n",
        "    param_grid = {\n",
        "        'max_depth': [3, 5, 7, None],\n",
        "        'min_samples_split': [2, 5, 10]\n",
        "    }\n",
        "\n",
        "    # Create a GridSearchCV object\n",
        "    grid_search = GridSearchCV(clf, param_grid, cv=5, scoring='accuracy')\n",
        "\n",
        "    # Perform the grid search on the training data\n",
        "    grid_search.fit(X_train, y_train)\n",
        "\n",
        "    # Print the best parameters and best score\n",
        "    print(\"Best Parameters:\", grid_search.best_params_)\n",
        "    print(\"Best Score:\", grid_search.best_score_)\n",
        "\n",
        "    # Evaluate the best model on the test set\n",
        "    best_clf = grid_search.best_estimator_\n",
        "    test_accuracy = best_clf.score(X_test, y_test)\n",
        "    print(\"Test Accuracy with Best Model:\", test_accuracy)\n",
        "\n",
        "if __name__ == \"__main__\":\n",
        "    train_and_grid_search_decision_tree()"
      ],
      "metadata": {
        "colab": {
          "base_uri": "https://localhost:8080/"
        },
        "id": "1qekp72jxxw_",
        "outputId": "fdb96a9d-64cb-48da-f6ce-a3d9ef4bfa18"
      },
      "execution_count": 16,
      "outputs": [
        {
          "output_type": "stream",
          "name": "stdout",
          "text": [
            "Best Parameters: {'max_depth': 7, 'min_samples_split': 2}\n",
            "Best Score: 0.9416666666666668\n",
            "Test Accuracy with Best Model: 1.0\n"
          ]
        }
      ]
    },
    {
      "cell_type": "code",
      "source": [],
      "metadata": {
        "id": "f1E5Hw_Ix_sR"
      },
      "execution_count": null,
      "outputs": []
    }
  ]
}